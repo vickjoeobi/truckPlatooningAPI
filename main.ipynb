{
 "cells": [
  {
   "cell_type": "code",
   "execution_count": 1,
   "metadata": {},
   "outputs": [
    {
     "name": "stdout",
     "output_type": "stream",
     "text": [
      "pandas 1.3.5\n"
     ]
    }
   ],
   "source": [
    "from pandas.plotting import scatter_matrix\n",
    "import pandas\n",
    "print(\"pandas {}\".format(pandas.__version__))"
   ]
  },
  {
   "cell_type": "code",
   "execution_count": 2,
   "metadata": {},
   "outputs": [
    {
     "name": "stdout",
     "output_type": "stream",
     "text": [
      "matplotlib 3.5.2\n"
     ]
    }
   ],
   "source": [
    "import matplotlib.pyplot\n",
    "import matplotlib\n",
    "print(\"matplotlib {}\".format(matplotlib.__version__))"
   ]
  },
  {
   "cell_type": "code",
   "execution_count": 3,
   "metadata": {},
   "outputs": [
    {
     "name": "stdout",
     "output_type": "stream",
     "text": [
      "sklearn 1.0.2\n"
     ]
    }
   ],
   "source": [
    "from sklearn import model_selection\n",
    "import sklearn\n",
    "print(\"sklearn {}\".format(sklearn.__version__))"
   ]
  },
  {
   "cell_type": "code",
   "execution_count": 4,
   "metadata": {},
   "outputs": [],
   "source": [
    "# Import Various Models we are to use\n",
    "from sklearn.linear_model import LogisticRegression\n",
    "from sklearn.tree import DecisionTreeClassifier\n",
    "from sklearn.neighbors import KNeighborsClassifier\n",
    "from sklearn.discriminant_analysis import LinearDiscriminantAnalysis\n",
    "from sklearn.naive_bayes import GaussianNB\n",
    "from sklearn.svm import SVC\n",
    "from sklearn.metrics import classification_report\n",
    "from sklearn.metrics import confusion_matrix\n",
    "from sklearn.metrics import accuracy_score\n",
    "from sklearn.metrics import precision_score\n",
    "from sklearn.metrics import recall_score\n",
    "from sklearn.metrics import f1_score\n",
    "from sklearn.metrics import roc_auc_score"
   ]
  },
  {
   "cell_type": "code",
   "execution_count": 5,
   "metadata": {},
   "outputs": [],
   "source": [
    "names = ['distanceCovered', 'Match of Route', 'Fuel Consumption', 'Body Characteristics', 'Equipment Sensors', 'Efficiency', 'Rating']"
   ]
  },
  {
   "cell_type": "code",
   "execution_count": 7,
   "metadata": {},
   "outputs": [
    {
     "name": "stdout",
     "output_type": "stream",
     "text": [
      "(38, 7)\n"
     ]
    }
   ],
   "source": [
    "data_set = pandas.read_csv('truckData.csv', names=names)\n",
    "print(data_set.shape)"
   ]
  },
  {
   "cell_type": "code",
   "execution_count": 8,
   "metadata": {},
   "outputs": [
    {
     "name": "stdout",
     "output_type": "stream",
     "text": [
      "     distanceCovered   Match of Route   Fuel Consumption  \\\n",
      "0   Distance_Covered   Match_of_Route   Fuel_Consumption   \n",
      "1               1000                1               2000   \n",
      "2               1000                1               2000   \n",
      "3               1000                0               2000   \n",
      "4               1000                1               2000   \n",
      "5                800                1                500   \n",
      "6                700                1                500   \n",
      "7                900                1                500   \n",
      "8                650                1                500   \n",
      "9                300                1                500   \n",
      "10              2000                1               2500   \n",
      "11              2000                1               2500   \n",
      "12              1500                1               2500   \n",
      "13              1500                1               2500   \n",
      "14              1500                0               2500   \n",
      "15              1500                0               2000   \n",
      "16              1500                0               2000   \n",
      "17              1500                1               2000   \n",
      "18              1500                1               2000   \n",
      "19              1500                1               2000   \n",
      "\n",
      "     Body Characteristics   Equipment Sensors   Efficiency   Rating  \n",
      "0    Body_Characteristics   Equipment_Sensors   Efficiency   Rating  \n",
      "1                       1                  10            4     High  \n",
      "2                       1                  10            4     High  \n",
      "3                       1                  10            4   lowest  \n",
      "4                       1                  10            4     High  \n",
      "5                       2                  10            4  Highest  \n",
      "6                       2                  10            4  Highest  \n",
      "7                       2                  10            4  Highest  \n",
      "8                       2                  10            4  Highest  \n",
      "9                       2                  10            4  Highest  \n",
      "10                      1                   7            4     High  \n",
      "11                      1                   7            3     high  \n",
      "12                      1                   7            3     high  \n",
      "13                      1                   7            3     high  \n",
      "14                      1                   7            3   lowest  \n",
      "15                      1                   7            3   lowest  \n",
      "16                      1                   7            3   lowest  \n",
      "17                      1                   7            3     high  \n",
      "18                      1                   7            3     high  \n",
      "19                      1                   7            3     high  \n"
     ]
    }
   ],
   "source": [
    "print(data_set.head(20))"
   ]
  },
  {
   "cell_type": "code",
   "execution_count": 9,
   "metadata": {},
   "outputs": [
    {
     "name": "stdout",
     "output_type": "stream",
     "text": [
      "       distanceCovered Match of Route Fuel Consumption Body Characteristics  \\\n",
      "count               38             38               38                   38   \n",
      "unique              11              3                4                    3   \n",
      "top               1500              1             2500                    1   \n",
      "freq                 9             29               23                   32   \n",
      "\n",
      "       Equipment Sensors Efficiency Rating  \n",
      "count                 38         38     38  \n",
      "unique                 4          3      6  \n",
      "top                    7          3    low  \n",
      "freq                  14         27     11  \n"
     ]
    }
   ],
   "source": [
    "print(data_set.describe())"
   ]
  },
  {
   "cell_type": "code",
   "execution_count": 10,
   "metadata": {},
   "outputs": [
    {
     "name": "stdout",
     "output_type": "stream",
     "text": [
      "Rating\n",
      " Rating     1\n",
      "High        4\n",
      "Highest     5\n",
      "high        9\n",
      "low        11\n",
      "lowest      8\n",
      "dtype: int64\n"
     ]
    }
   ],
   "source": [
    "print(data_set.groupby('Rating').size())\n"
   ]
  },
  {
   "cell_type": "code",
   "execution_count": null,
   "metadata": {},
   "outputs": [],
   "source": [
    "data_set.plot(kind='box', subplots=False, sharex=False, sharey=False)"
   ]
  },
  {
   "cell_type": "code",
   "execution_count": null,
   "metadata": {},
   "outputs": [],
   "source": [
    "data_set.plot (kind = 'box', subplots = True, layout = (4,2), sharex = False, sharey = False)"
   ]
  },
  {
   "cell_type": "code",
   "execution_count": null,
   "metadata": {},
   "outputs": [],
   "source": [
    "data_set.hist()"
   ]
  },
  {
   "cell_type": "code",
   "execution_count": null,
   "metadata": {},
   "outputs": [],
   "source": [
    "scatter_matrix(data_set)"
   ]
  },
  {
   "cell_type": "code",
   "execution_count": 12,
   "metadata": {},
   "outputs": [
    {
     "name": "stdout",
     "output_type": "stream",
     "text": [
      "[['Distance_Covered' ' Match_of_Route' ' Fuel_Consumption'\n",
      "  ' Body_Characteristics' ' Equipment_Sensors' ' Efficiency' ' Rating']\n",
      " ['1000' '1' '2000' '1' '10' '4' 'High']\n",
      " ['1000' '1' '2000' '1' '10' '4' 'High']\n",
      " ['1000' '0' '2000' '1' '10' '4' 'lowest']\n",
      " ['1000' '1' '2000' '1' '10' '4' 'High']\n",
      " ['800' '1' '500' '2' '10' '4' 'Highest']\n",
      " ['700' '1' '500' '2' '10' '4' 'Highest']\n",
      " ['900' '1' '500' '2' '10' '4' 'Highest']\n",
      " ['650' '1' '500' '2' '10' '4' 'Highest']\n",
      " ['300' '1' '500' '2' '10' '4' 'Highest']\n",
      " ['2000' '1' '2500' '1' '7' '4' 'High']\n",
      " ['2000' '1' '2500' '1' '7' '3' 'high']\n",
      " ['1500' '1' '2500' '1' '7' '3' 'high']\n",
      " ['1500' '1' '2500' '1' '7' '3' 'high']\n",
      " ['1500' '0' '2500' '1' '7' '3' 'lowest']\n",
      " ['1500' '0' '2000' '1' '7' '3' 'lowest']\n",
      " ['1500' '0' '2000' '1' '7' '3' 'lowest']\n",
      " ['1500' '1' '2000' '1' '7' '3' 'high']\n",
      " ['1500' '1' '2000' '1' '7' '3' 'high']\n",
      " ['1500' '1' '2000' '1' '7' '3' 'high']]\n"
     ]
    }
   ],
   "source": [
    "data_table = data_set. values\n",
    "print(data_table[0:20])"
   ]
  },
  {
   "cell_type": "markdown",
   "metadata": {},
   "source": [
    "## Modeling and Analyzing Data"
   ]
  },
  {
   "cell_type": "code",
   "execution_count": 13,
   "metadata": {},
   "outputs": [],
   "source": [
    "X = data_table[:,0:6]\n",
    "Y = data_table[:,6]"
   ]
  },
  {
   "cell_type": "code",
   "execution_count": 14,
   "metadata": {},
   "outputs": [],
   "source": [
    "test_set_size = 0.20\n",
    "seed = 6"
   ]
  },
  {
   "cell_type": "code",
   "execution_count": 15,
   "metadata": {},
   "outputs": [],
   "source": [
    "X_train, X_test, Y_train, Y_test = model_selection.train_test_split (X,Y, test_size = test_set_size, random_state = seed)"
   ]
  },
  {
   "cell_type": "code",
   "execution_count": 16,
   "metadata": {},
   "outputs": [],
   "source": [
    "scoring = 'accuracy'"
   ]
  },
  {
   "cell_type": "code",
   "execution_count": 17,
   "metadata": {},
   "outputs": [],
   "source": [
    "models = []\n",
    "\n",
    "models.append(('Logistic Regression', LogisticRegression(\n",
    "    solver='lbfgs',  multi_class='ovr')))\n",
    "models.append(('Linear Discriminant Analysis', LinearDiscriminantAnalysis()))\n",
    "models.append(('K Nearest Neigbors', KNeighborsClassifier()))\n",
    "models.append(('CART', DecisionTreeClassifier()))\n",
    "models.append(('Support Vector Machine', SVC(gamma='scale')))\n",
    "models.append(('Guassian Naive Bayes', GaussianNB()))"
   ]
  },
  {
   "cell_type": "code",
   "execution_count": 18,
   "metadata": {},
   "outputs": [],
   "source": [
    "results = []\n",
    "names = []"
   ]
  },
  {
   "cell_type": "code",
   "execution_count": 19,
   "metadata": {},
   "outputs": [
    {
     "name": "stderr",
     "output_type": "stream",
     "text": [
      "c:\\Users\\vickj\\anaconda3\\envs\\deepLearning1\\lib\\site-packages\\sklearn\\linear_model\\_logistic.py:818: ConvergenceWarning: lbfgs failed to converge (status=1):\n",
      "STOP: TOTAL NO. of ITERATIONS REACHED LIMIT.\n",
      "\n",
      "Increase the number of iterations (max_iter) or scale the data as shown in:\n",
      "    https://scikit-learn.org/stable/modules/preprocessing.html\n",
      "Please also refer to the documentation for alternative solver options:\n",
      "    https://scikit-learn.org/stable/modules/linear_model.html#logistic-regression\n",
      "  extra_warning_msg=_LOGISTIC_SOLVER_CONVERGENCE_MSG,\n",
      "c:\\Users\\vickj\\anaconda3\\envs\\deepLearning1\\lib\\site-packages\\sklearn\\linear_model\\_logistic.py:818: ConvergenceWarning: lbfgs failed to converge (status=1):\n",
      "STOP: TOTAL NO. of ITERATIONS REACHED LIMIT.\n",
      "\n",
      "Increase the number of iterations (max_iter) or scale the data as shown in:\n",
      "    https://scikit-learn.org/stable/modules/preprocessing.html\n",
      "Please also refer to the documentation for alternative solver options:\n",
      "    https://scikit-learn.org/stable/modules/linear_model.html#logistic-regression\n",
      "  extra_warning_msg=_LOGISTIC_SOLVER_CONVERGENCE_MSG,\n",
      "c:\\Users\\vickj\\anaconda3\\envs\\deepLearning1\\lib\\site-packages\\sklearn\\linear_model\\_logistic.py:818: ConvergenceWarning: lbfgs failed to converge (status=1):\n",
      "STOP: TOTAL NO. of ITERATIONS REACHED LIMIT.\n",
      "\n",
      "Increase the number of iterations (max_iter) or scale the data as shown in:\n",
      "    https://scikit-learn.org/stable/modules/preprocessing.html\n",
      "Please also refer to the documentation for alternative solver options:\n",
      "    https://scikit-learn.org/stable/modules/linear_model.html#logistic-regression\n",
      "  extra_warning_msg=_LOGISTIC_SOLVER_CONVERGENCE_MSG,\n",
      "c:\\Users\\vickj\\anaconda3\\envs\\deepLearning1\\lib\\site-packages\\sklearn\\linear_model\\_logistic.py:818: ConvergenceWarning: lbfgs failed to converge (status=1):\n",
      "STOP: TOTAL NO. of ITERATIONS REACHED LIMIT.\n",
      "\n",
      "Increase the number of iterations (max_iter) or scale the data as shown in:\n",
      "    https://scikit-learn.org/stable/modules/preprocessing.html\n",
      "Please also refer to the documentation for alternative solver options:\n",
      "    https://scikit-learn.org/stable/modules/linear_model.html#logistic-regression\n",
      "  extra_warning_msg=_LOGISTIC_SOLVER_CONVERGENCE_MSG,\n",
      "c:\\Users\\vickj\\anaconda3\\envs\\deepLearning1\\lib\\site-packages\\sklearn\\linear_model\\_logistic.py:818: ConvergenceWarning: lbfgs failed to converge (status=1):\n",
      "STOP: TOTAL NO. of ITERATIONS REACHED LIMIT.\n",
      "\n",
      "Increase the number of iterations (max_iter) or scale the data as shown in:\n",
      "    https://scikit-learn.org/stable/modules/preprocessing.html\n",
      "Please also refer to the documentation for alternative solver options:\n",
      "    https://scikit-learn.org/stable/modules/linear_model.html#logistic-regression\n",
      "  extra_warning_msg=_LOGISTIC_SOLVER_CONVERGENCE_MSG,\n",
      "c:\\Users\\vickj\\anaconda3\\envs\\deepLearning1\\lib\\site-packages\\sklearn\\linear_model\\_logistic.py:818: ConvergenceWarning: lbfgs failed to converge (status=1):\n",
      "STOP: TOTAL NO. of ITERATIONS REACHED LIMIT.\n",
      "\n",
      "Increase the number of iterations (max_iter) or scale the data as shown in:\n",
      "    https://scikit-learn.org/stable/modules/preprocessing.html\n",
      "Please also refer to the documentation for alternative solver options:\n",
      "    https://scikit-learn.org/stable/modules/linear_model.html#logistic-regression\n",
      "  extra_warning_msg=_LOGISTIC_SOLVER_CONVERGENCE_MSG,\n",
      "c:\\Users\\vickj\\anaconda3\\envs\\deepLearning1\\lib\\site-packages\\sklearn\\linear_model\\_logistic.py:818: ConvergenceWarning: lbfgs failed to converge (status=1):\n",
      "STOP: TOTAL NO. of ITERATIONS REACHED LIMIT.\n",
      "\n",
      "Increase the number of iterations (max_iter) or scale the data as shown in:\n",
      "    https://scikit-learn.org/stable/modules/preprocessing.html\n",
      "Please also refer to the documentation for alternative solver options:\n",
      "    https://scikit-learn.org/stable/modules/linear_model.html#logistic-regression\n",
      "  extra_warning_msg=_LOGISTIC_SOLVER_CONVERGENCE_MSG,\n",
      "c:\\Users\\vickj\\anaconda3\\envs\\deepLearning1\\lib\\site-packages\\sklearn\\linear_model\\_logistic.py:818: ConvergenceWarning: lbfgs failed to converge (status=1):\n",
      "STOP: TOTAL NO. of ITERATIONS REACHED LIMIT.\n",
      "\n",
      "Increase the number of iterations (max_iter) or scale the data as shown in:\n",
      "    https://scikit-learn.org/stable/modules/preprocessing.html\n",
      "Please also refer to the documentation for alternative solver options:\n",
      "    https://scikit-learn.org/stable/modules/linear_model.html#logistic-regression\n",
      "  extra_warning_msg=_LOGISTIC_SOLVER_CONVERGENCE_MSG,\n",
      "c:\\Users\\vickj\\anaconda3\\envs\\deepLearning1\\lib\\site-packages\\sklearn\\linear_model\\_logistic.py:818: ConvergenceWarning: lbfgs failed to converge (status=1):\n",
      "STOP: TOTAL NO. of ITERATIONS REACHED LIMIT.\n",
      "\n",
      "Increase the number of iterations (max_iter) or scale the data as shown in:\n",
      "    https://scikit-learn.org/stable/modules/preprocessing.html\n",
      "Please also refer to the documentation for alternative solver options:\n",
      "    https://scikit-learn.org/stable/modules/linear_model.html#logistic-regression\n",
      "  extra_warning_msg=_LOGISTIC_SOLVER_CONVERGENCE_MSG,\n",
      "c:\\Users\\vickj\\anaconda3\\envs\\deepLearning1\\lib\\site-packages\\sklearn\\linear_model\\_logistic.py:818: ConvergenceWarning: lbfgs failed to converge (status=1):\n",
      "STOP: TOTAL NO. of ITERATIONS REACHED LIMIT.\n",
      "\n",
      "Increase the number of iterations (max_iter) or scale the data as shown in:\n",
      "    https://scikit-learn.org/stable/modules/preprocessing.html\n",
      "Please also refer to the documentation for alternative solver options:\n",
      "    https://scikit-learn.org/stable/modules/linear_model.html#logistic-regression\n",
      "  extra_warning_msg=_LOGISTIC_SOLVER_CONVERGENCE_MSG,\n",
      "c:\\Users\\vickj\\anaconda3\\envs\\deepLearning1\\lib\\site-packages\\sklearn\\linear_model\\_logistic.py:818: ConvergenceWarning: lbfgs failed to converge (status=1):\n",
      "STOP: TOTAL NO. of ITERATIONS REACHED LIMIT.\n",
      "\n",
      "Increase the number of iterations (max_iter) or scale the data as shown in:\n",
      "    https://scikit-learn.org/stable/modules/preprocessing.html\n",
      "Please also refer to the documentation for alternative solver options:\n",
      "    https://scikit-learn.org/stable/modules/linear_model.html#logistic-regression\n",
      "  extra_warning_msg=_LOGISTIC_SOLVER_CONVERGENCE_MSG,\n"
     ]
    },
    {
     "name": "stdout",
     "output_type": "stream",
     "text": [
      "Logistic Regression:  0.800000  (0.221108)\n",
      "Linear Discriminant Analysis:  0.666667  (0.210819)\n",
      "K Nearest Neigbors:  0.700000  (0.276887)\n",
      "CART:  0.966667  (0.100000)\n",
      "Support Vector Machine:  0.500000  (0.268742)\n",
      "Guassian Naive Bayes:  0.900000  (0.152753)\n"
     ]
    },
    {
     "name": "stderr",
     "output_type": "stream",
     "text": [
      "c:\\Users\\vickj\\anaconda3\\envs\\deepLearning1\\lib\\site-packages\\sklearn\\linear_model\\_logistic.py:818: ConvergenceWarning: lbfgs failed to converge (status=1):\n",
      "STOP: TOTAL NO. of ITERATIONS REACHED LIMIT.\n",
      "\n",
      "Increase the number of iterations (max_iter) or scale the data as shown in:\n",
      "    https://scikit-learn.org/stable/modules/preprocessing.html\n",
      "Please also refer to the documentation for alternative solver options:\n",
      "    https://scikit-learn.org/stable/modules/linear_model.html#logistic-regression\n",
      "  extra_warning_msg=_LOGISTIC_SOLVER_CONVERGENCE_MSG,\n",
      "c:\\Users\\vickj\\anaconda3\\envs\\deepLearning1\\lib\\site-packages\\sklearn\\linear_model\\_logistic.py:818: ConvergenceWarning: lbfgs failed to converge (status=1):\n",
      "STOP: TOTAL NO. of ITERATIONS REACHED LIMIT.\n",
      "\n",
      "Increase the number of iterations (max_iter) or scale the data as shown in:\n",
      "    https://scikit-learn.org/stable/modules/preprocessing.html\n",
      "Please also refer to the documentation for alternative solver options:\n",
      "    https://scikit-learn.org/stable/modules/linear_model.html#logistic-regression\n",
      "  extra_warning_msg=_LOGISTIC_SOLVER_CONVERGENCE_MSG,\n",
      "c:\\Users\\vickj\\anaconda3\\envs\\deepLearning1\\lib\\site-packages\\sklearn\\linear_model\\_logistic.py:818: ConvergenceWarning: lbfgs failed to converge (status=1):\n",
      "STOP: TOTAL NO. of ITERATIONS REACHED LIMIT.\n",
      "\n",
      "Increase the number of iterations (max_iter) or scale the data as shown in:\n",
      "    https://scikit-learn.org/stable/modules/preprocessing.html\n",
      "Please also refer to the documentation for alternative solver options:\n",
      "    https://scikit-learn.org/stable/modules/linear_model.html#logistic-regression\n",
      "  extra_warning_msg=_LOGISTIC_SOLVER_CONVERGENCE_MSG,\n"
     ]
    }
   ],
   "source": [
    "for name, model in models:\n",
    "    names.append(name)\n",
    "    K_Fold = model_selection.KFold(n_splits=10, random_state=7, shuffle=True)\n",
    "    cv_results = model_selection.cross_val_score(\n",
    "        model, X_train, Y_train, cv=K_Fold, scoring=scoring)\n",
    "    results.append(cv_results)\n",
    "    message = \"%s:  %f  (%f)\" % (name, cv_results.mean(), cv_results.std())\n",
    "    print(message)\n"
   ]
  },
  {
   "cell_type": "code",
   "execution_count": 20,
   "metadata": {},
   "outputs": [
    {
     "data": {
      "text/plain": [
       "DecisionTreeClassifier()"
      ]
     },
     "execution_count": 20,
     "metadata": {},
     "output_type": "execute_result"
    }
   ],
   "source": [
    "model = DecisionTreeClassifier()\n",
    "model.fit(X_train, Y_train)"
   ]
  },
  {
   "cell_type": "code",
   "execution_count": 26,
   "metadata": {},
   "outputs": [],
   "source": [
    "# save the model for API\n",
    "\n",
    "import pickle\n",
    "\n",
    "with open('model.pkl', 'wb') as f:\n",
    "    pickle.dump(model, f)"
   ]
  },
  {
   "cell_type": "code",
   "execution_count": 22,
   "metadata": {},
   "outputs": [],
   "source": [
    "predictions = model.predict([[800,1,500,2,10,4]])"
   ]
  },
  {
   "cell_type": "code",
   "execution_count": 23,
   "metadata": {},
   "outputs": [
    {
     "name": "stdout",
     "output_type": "stream",
     "text": [
      "['Highest']\n"
     ]
    }
   ],
   "source": [
    "print(predictions)"
   ]
  },
  {
   "cell_type": "code",
   "execution_count": 24,
   "metadata": {},
   "outputs": [
    {
     "name": "stdout",
     "output_type": "stream",
     "text": [
      "<class 'numpy.ndarray'>\n"
     ]
    }
   ],
   "source": [
    "print(type(predictions))"
   ]
  },
  {
   "cell_type": "code",
   "execution_count": 25,
   "metadata": {},
   "outputs": [
    {
     "name": "stdout",
     "output_type": "stream",
     "text": [
      "High\n"
     ]
    }
   ],
   "source": [
    "distanceCovered = 1500\n",
    "Match_of_Route = 1\n",
    "Fuel_Consumption = 2000\n",
    "Body_Characteristics = 1\n",
    "Equipment_Sensors = 10 \n",
    "Efficiency = 4\n",
    "Rating = 0\n",
    "\n",
    "new_prediction = model.predict([[distanceCovered, Match_of_Route, Fuel_Consumption, Body_Characteristics, Equipment_Sensors, Efficiency]])\n",
    "\n",
    "ranking = new_prediction[0]\n",
    "\n",
    "print(ranking)"
   ]
  },
  {
   "cell_type": "code",
   "execution_count": null,
   "metadata": {},
   "outputs": [],
   "source": []
  }
 ],
 "metadata": {
  "interpreter": {
   "hash": "788421b51819b0d99ad3e1c4dbd79c14d1f04d894a227406e4e8c6e44650e5ee"
  },
  "kernelspec": {
   "display_name": "Python 3.7.13 ('deepLearning1')",
   "language": "python",
   "name": "python3"
  },
  "language_info": {
   "codemirror_mode": {
    "name": "ipython",
    "version": 3
   },
   "file_extension": ".py",
   "mimetype": "text/x-python",
   "name": "python",
   "nbconvert_exporter": "python",
   "pygments_lexer": "ipython3",
   "version": "3.7.13"
  },
  "orig_nbformat": 4
 },
 "nbformat": 4,
 "nbformat_minor": 2
}
