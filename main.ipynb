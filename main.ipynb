{
 "cells": [
  {
   "cell_type": "code",
   "execution_count": 28,
   "metadata": {},
   "outputs": [
    {
     "name": "stdout",
     "output_type": "stream",
     "text": [
      "pandas 1.3.5\n"
     ]
    }
   ],
   "source": [
    "from pandas.plotting import scatter_matrix\n",
    "import pandas\n",
    "print(\"pandas {}\".format(pandas.__version__))"
   ]
  },
  {
   "cell_type": "code",
   "execution_count": 29,
   "metadata": {},
   "outputs": [
    {
     "name": "stdout",
     "output_type": "stream",
     "text": [
      "matplotlib 3.5.2\n"
     ]
    }
   ],
   "source": [
    "import matplotlib.pyplot\n",
    "import matplotlib\n",
    "print(\"matplotlib {}\".format(matplotlib.__version__))"
   ]
  },
  {
   "cell_type": "code",
   "execution_count": 30,
   "metadata": {},
   "outputs": [
    {
     "name": "stdout",
     "output_type": "stream",
     "text": [
      "sklearn 1.0.2\n"
     ]
    }
   ],
   "source": [
    "from sklearn import model_selection\n",
    "import sklearn\n",
    "print(\"sklearn {}\".format(sklearn.__version__))"
   ]
  },
  {
   "cell_type": "code",
   "execution_count": 31,
   "metadata": {},
   "outputs": [],
   "source": [
    "# Import Various Models we are to use\n",
    "from sklearn.linear_model import LogisticRegression\n",
    "from sklearn.tree import DecisionTreeClassifier\n",
    "from sklearn.neighbors import KNeighborsClassifier\n",
    "from sklearn.discriminant_analysis import LinearDiscriminantAnalysis\n",
    "from sklearn.naive_bayes import GaussianNB\n",
    "from sklearn.svm import SVC\n",
    "from sklearn.metrics import classification_report\n",
    "from sklearn.metrics import confusion_matrix\n",
    "from sklearn.metrics import accuracy_score\n",
    "from sklearn.metrics import precision_score\n",
    "from sklearn.metrics import recall_score\n",
    "from sklearn.metrics import f1_score\n",
    "from sklearn.metrics import roc_auc_score"
   ]
  },
  {
   "cell_type": "code",
   "execution_count": 32,
   "metadata": {},
   "outputs": [],
   "source": [
    "names = ['distanceCovered', 'Match of Route', 'Fuel Consumption', 'Body Characteristics', 'Equipment Sensors', 'Efficiency', 'Rating']"
   ]
  },
  {
   "cell_type": "code",
   "execution_count": 33,
   "metadata": {},
   "outputs": [
    {
     "name": "stdout",
     "output_type": "stream",
     "text": [
      "(37, 7)\n"
     ]
    }
   ],
   "source": [
    "data_set = pandas.read_csv('data2.csv', names=names)\n",
    "print(data_set.shape)"
   ]
  },
  {
   "cell_type": "code",
   "execution_count": 34,
   "metadata": {},
   "outputs": [
    {
     "name": "stdout",
     "output_type": "stream",
     "text": [
      "    distanceCovered  Match of Route  Fuel Consumption  Body Characteristics  \\\n",
      "0              1000               1              2000                     1   \n",
      "1              1000               1              2000                     1   \n",
      "2              1000               0              2000                     1   \n",
      "3              1000               1              2000                     1   \n",
      "4               800               1               500                     2   \n",
      "5               700               1               500                     2   \n",
      "6               900               1               500                     2   \n",
      "7               650               1               500                     2   \n",
      "8               300               1               500                     2   \n",
      "9              2000               1              2500                     1   \n",
      "10             2000               1              2500                     1   \n",
      "11             1500               1              2500                     1   \n",
      "12             1500               1              2500                     1   \n",
      "13             1500               0              2500                     1   \n",
      "14             1500               0              2000                     1   \n",
      "15             1500               0              2000                     1   \n",
      "16             1500               1              2000                     1   \n",
      "17             1500               1              2000                     1   \n",
      "18             1500               1              2000                     1   \n",
      "19             1500               1              2500                     1   \n",
      "\n",
      "    Equipment Sensors  Efficiency   Rating  \n",
      "0                  10           4     High  \n",
      "1                  10           4     High  \n",
      "2                  10           4   lowest  \n",
      "3                  10           4     High  \n",
      "4                  10           4  Highest  \n",
      "5                  10           4  Highest  \n",
      "6                  10           4  Highest  \n",
      "7                  10           4  Highest  \n",
      "8                  10           4  Highest  \n",
      "9                   7           4     High  \n",
      "10                  7           3     high  \n",
      "11                  7           3     high  \n",
      "12                  7           3     high  \n",
      "13                  7           3   lowest  \n",
      "14                  7           3   lowest  \n",
      "15                  7           3   lowest  \n",
      "16                  7           3     high  \n",
      "17                  7           3     high  \n",
      "18                  7           3     high  \n",
      "19                  7           3     high  \n"
     ]
    }
   ],
   "source": [
    "print(data_set.head(20))"
   ]
  },
  {
   "cell_type": "code",
   "execution_count": 35,
   "metadata": {},
   "outputs": [
    {
     "name": "stdout",
     "output_type": "stream",
     "text": [
      "       distanceCovered  Match of Route  Fuel Consumption  \\\n",
      "count        37.000000       37.000000         37.000000   \n",
      "mean       1887.837838        0.783784       2108.108108   \n",
      "std         813.719632        0.417342        678.387950   \n",
      "min         300.000000        0.000000        500.000000   \n",
      "25%        1500.000000        1.000000       2000.000000   \n",
      "50%        2000.000000        1.000000       2500.000000   \n",
      "75%        2500.000000        1.000000       2500.000000   \n",
      "max        3000.000000        1.000000       2500.000000   \n",
      "\n",
      "       Body Characteristics  Equipment Sensors  Efficiency  \n",
      "count             37.000000          37.000000   37.000000  \n",
      "mean               1.135135           6.972973    3.270270  \n",
      "std                0.346583           1.950591    0.450225  \n",
      "min                1.000000           5.000000    3.000000  \n",
      "25%                1.000000           5.000000    3.000000  \n",
      "50%                1.000000           7.000000    3.000000  \n",
      "75%                1.000000           7.000000    4.000000  \n",
      "max                2.000000          10.000000    4.000000  \n"
     ]
    }
   ],
   "source": [
    "print(data_set.describe())"
   ]
  },
  {
   "cell_type": "code",
   "execution_count": 36,
   "metadata": {},
   "outputs": [
    {
     "name": "stdout",
     "output_type": "stream",
     "text": [
      "Rating\n",
      "High        4\n",
      "Highest     5\n",
      "high        9\n",
      "low        11\n",
      "lowest      8\n",
      "dtype: int64\n"
     ]
    }
   ],
   "source": [
    "print(data_set.groupby('Rating').size())\n"
   ]
  },
  {
   "cell_type": "code",
   "execution_count": 37,
   "metadata": {},
   "outputs": [
    {
     "data": {
      "text/plain": [
       "<AxesSubplot:>"
      ]
     },
     "execution_count": 37,
     "metadata": {},
     "output_type": "execute_result"
    },
    {
     "data": {
      "image/png": "[encoded data removed]",
      "text/plain": [
       "<Figure size 432x288 with 1 Axes>"
      ]
     },
     "metadata": {
      "needs_background": "light"
     },
     "output_type": "display_data"
    }
   ],
   "source": [
    "data_set.plot(kind='box', subplots=False, sharex=False, sharey=False)"
   ]
  },
  {
   "cell_type": "code",
   "execution_count": 42,
   "metadata": {},
   "outputs": [
    {
     "data": {
      "text/plain": [
       "distanceCovered             AxesSubplot(0.125,0.71587;0.352273x0.16413)\n",
       "Match of Route           AxesSubplot(0.547727,0.71587;0.352273x0.16413)\n",
       "Fuel Consumption           AxesSubplot(0.125,0.518913;0.352273x0.16413)\n",
       "Body Characteristics    AxesSubplot(0.547727,0.518913;0.352273x0.16413)\n",
       "Equipment Sensors          AxesSubplot(0.125,0.321957;0.352273x0.16413)\n",
       "Efficiency              AxesSubplot(0.547727,0.321957;0.352273x0.16413)\n",
       "dtype: object"
      ]
     },
     "execution_count": 42,
     "metadata": {},
     "output_type": "execute_result"
    },
    {
     "data": {
      "image/png": "[encoded data removed]",
      "text/plain": [
       "<Figure size 432x288 with 8 Axes>"
      ]
     },
     "metadata": {
      "needs_background": "light"
     },
     "output_type": "display_data"
    }
   ],
   "source": [
    "data_set.plot (kind = 'box', subplots = True, layout = (4,2), sharex = False, sharey = False)"
   ]
  },
  {
   "cell_type": "code",
   "execution_count": 43,
   "metadata": {},
   "outputs": [
    {
     "data": {
      "text/plain": [
       "array([[<AxesSubplot:title={'center':'distanceCovered'}>,\n",
       "        <AxesSubplot:title={'center':'Match of Route'}>],\n",
       "       [<AxesSubplot:title={'center':'Fuel Consumption'}>,\n",
       "        <AxesSubplot:title={'center':'Body Characteristics'}>],\n",
       "       [<AxesSubplot:title={'center':'Equipment Sensors'}>,\n",
       "        <AxesSubplot:title={'center':'Efficiency'}>]], dtype=object)"
      ]
     },
     "execution_count": 43,
     "metadata": {},
     "output_type": "execute_result"
    },
    {
     "data": {
      "image/png": "[encoded data removed]",
      "text/plain": [
       "<Figure size 432x288 with 6 Axes>"
      ]
     },
     "metadata": {
      "needs_background": "light"
     },
     "output_type": "display_data"
    }
   ],
   "source": [
    "data_set.hist()"
   ]
  },
  {
   "cell_type": "code",
   "execution_count": 44,
   "metadata": {},
   "outputs": [
    {
     "data": {
      "text/plain": [
       "array([[<AxesSubplot:xlabel='distanceCovered', ylabel='distanceCovered'>,\n",
       "        <AxesSubplot:xlabel='Match of Route', ylabel='distanceCovered'>,\n",
       "        <AxesSubplot:xlabel='Fuel Consumption', ylabel='distanceCovered'>,\n",
       "        <AxesSubplot:xlabel='Body Characteristics', ylabel='distanceCovered'>,\n",
       "        <AxesSubplot:xlabel='Equipment Sensors', ylabel='distanceCovered'>,\n",
       "        <AxesSubplot:xlabel='Efficiency', ylabel='distanceCovered'>],\n",
       "       [<AxesSubplot:xlabel='distanceCovered', ylabel='Match of Route'>,\n",
       "        <AxesSubplot:xlabel='Match of Route', ylabel='Match of Route'>,\n",
       "        <AxesSubplot:xlabel='Fuel Consumption', ylabel='Match of Route'>,\n",
       "        <AxesSubplot:xlabel='Body Characteristics', ylabel='Match of Route'>,\n",
       "        <AxesSubplot:xlabel='Equipment Sensors', ylabel='Match of Route'>,\n",
       "        <AxesSubplot:xlabel='Efficiency', ylabel='Match of Route'>],\n",
       "       [<AxesSubplot:xlabel='distanceCovered', ylabel='Fuel Consumption'>,\n",
       "        <AxesSubplot:xlabel='Match of Route', ylabel='Fuel Consumption'>,\n",
       "        <AxesSubplot:xlabel='Fuel Consumption', ylabel='Fuel Consumption'>,\n",
       "        <AxesSubplot:xlabel='Body Characteristics', ylabel='Fuel Consumption'>,\n",
       "        <AxesSubplot:xlabel='Equipment Sensors', ylabel='Fuel Consumption'>,\n",
       "        <AxesSubplot:xlabel='Efficiency', ylabel='Fuel Consumption'>],\n",
       "       [<AxesSubplot:xlabel='distanceCovered', ylabel='Body Characteristics'>,\n",
       "        <AxesSubplot:xlabel='Match of Route', ylabel='Body Characteristics'>,\n",
       "        <AxesSubplot:xlabel='Fuel Consumption', ylabel='Body Characteristics'>,\n",
       "        <AxesSubplot:xlabel='Body Characteristics', ylabel='Body Characteristics'>,\n",
       "        <AxesSubplot:xlabel='Equipment Sensors', ylabel='Body Characteristics'>,\n",
       "        <AxesSubplot:xlabel='Efficiency', ylabel='Body Characteristics'>],\n",
       "       [<AxesSubplot:xlabel='distanceCovered', ylabel='Equipment Sensors'>,\n",
       "        <AxesSubplot:xlabel='Match of Route', ylabel='Equipment Sensors'>,\n",
       "        <AxesSubplot:xlabel='Fuel Consumption', ylabel='Equipment Sensors'>,\n",
       "        <AxesSubplot:xlabel='Body Characteristics', ylabel='Equipment Sensors'>,\n",
       "        <AxesSubplot:xlabel='Equipment Sensors', ylabel='Equipment Sensors'>,\n",
       "        <AxesSubplot:xlabel='Efficiency', ylabel='Equipment Sensors'>],\n",
       "       [<AxesSubplot:xlabel='distanceCovered', ylabel='Efficiency'>,\n",
       "        <AxesSubplot:xlabel='Match of Route', ylabel='Efficiency'>,\n",
       "        <AxesSubplot:xlabel='Fuel Consumption', ylabel='Efficiency'>,\n",
       "        <AxesSubplot:xlabel='Body Characteristics', ylabel='Efficiency'>,\n",
       "        <AxesSubplot:xlabel='Equipment Sensors', ylabel='Efficiency'>,\n",
       "        <AxesSubplot:xlabel='Efficiency', ylabel='Efficiency'>]],\n",
       "      dtype=object)"
      ]
     },
     "execution_count": 44,
     "metadata": {},
     "output_type": "execute_result"
    },
    {
     "data": {
      "image/png": "[encoded data removed]",
      "text/plain": [
       "<Figure size 432x288 with 36 Axes>"
      ]
     },
     "metadata": {
      "needs_background": "light"
     },
     "output_type": "display_data"
    }
   ],
   "source": [
    "scatter_matrix(data_set)"
   ]
  },
  {
   "cell_type": "code",
   "execution_count": 45,
   "metadata": {},
   "outputs": [
    {
     "name": "stdout",
     "output_type": "stream",
     "text": [
      "[[1000 1 2000 1 10 4 'High']\n",
      " [1000 1 2000 1 10 4 'High']\n",
      " [1000 0 2000 1 10 4 'lowest']\n",
      " [1000 1 2000 1 10 4 'High']\n",
      " [800 1 500 2 10 4 'Highest']\n",
      " [700 1 500 2 10 4 'Highest']\n",
      " [900 1 500 2 10 4 'Highest']\n",
      " [650 1 500 2 10 4 'Highest']\n",
      " [300 1 500 2 10 4 'Highest']\n",
      " [2000 1 2500 1 7 4 'High']\n",
      " [2000 1 2500 1 7 3 'high']\n",
      " [1500 1 2500 1 7 3 'high']\n",
      " [1500 1 2500 1 7 3 'high']\n",
      " [1500 0 2500 1 7 3 'lowest']\n",
      " [1500 0 2000 1 7 3 'lowest']\n",
      " [1500 0 2000 1 7 3 'lowest']\n",
      " [1500 1 2000 1 7 3 'high']\n",
      " [1500 1 2000 1 7 3 'high']\n",
      " [1500 1 2000 1 7 3 'high']\n",
      " [1500 1 2500 1 7 3 'high']]\n"
     ]
    }
   ],
   "source": [
    "data_table = data_set. values\n",
    "print(data_table[0:20])"
   ]
  },
  {
   "cell_type": "markdown",
   "metadata": {},
   "source": [
    "## Modeling and Analyzing Data"
   ]
  },
  {
   "cell_type": "code",
   "execution_count": 57,
   "metadata": {},
   "outputs": [],
   "source": [
    "X = data_table[:,0:6]\n",
    "Y = data_table[:,6]"
   ]
  },
  {
   "cell_type": "code",
   "execution_count": 64,
   "metadata": {},
   "outputs": [],
   "source": [
    "test_set_size = 0.20\n",
    "seed = 6"
   ]
  },
  {
   "cell_type": "code",
   "execution_count": 65,
   "metadata": {},
   "outputs": [],
   "source": [
    "X_train, X_test, Y_train, Y_test = model_selection.train_test_split (X,Y, test_size = test_set_size, random_state = seed)"
   ]
  },
  {
   "cell_type": "code",
   "execution_count": 66,
   "metadata": {},
   "outputs": [],
   "source": [
    "scoring = 'accuracy'"
   ]
  },
  {
   "cell_type": "code",
   "execution_count": 67,
   "metadata": {},
   "outputs": [],
   "source": [
    "models = []\n",
    "\n",
    "models.append(('Logistic Regression', LogisticRegression(\n",
    "    solver='lbfgs',  multi_class='ovr')))\n",
    "models.append(('Linear Discriminant Analysis', LinearDiscriminantAnalysis()))\n",
    "models.append(('K Nearest Neigbors', KNeighborsClassifier()))\n",
    "models.append(('CART', DecisionTreeClassifier()))\n",
    "models.append(('Support Vector Machine', SVC(gamma='scale')))\n",
    "models.append(('Guassian Naive Bayes', GaussianNB()))"
   ]
  },
  {
   "cell_type": "code",
   "execution_count": 68,
   "metadata": {},
   "outputs": [],
   "source": [
    "results = []\n",
    "names = []"
   ]
  },
  {
   "cell_type": "code",
   "execution_count": 99,
   "metadata": {},
   "outputs": [
    {
     "name": "stderr",
     "output_type": "stream",
     "text": [
      "c:\\Users\\vickj\\anaconda3\\envs\\deepLearning1\\lib\\site-packages\\sklearn\\linear_model\\_logistic.py:818: ConvergenceWarning: lbfgs failed to converge (status=1):\n",
      "STOP: TOTAL NO. of ITERATIONS REACHED LIMIT.\n",
      "\n",
      "Increase the number of iterations (max_iter) or scale the data as shown in:\n",
      "    https://scikit-learn.org/stable/modules/preprocessing.html\n",
      "Please also refer to the documentation for alternative solver options:\n",
      "    https://scikit-learn.org/stable/modules/linear_model.html#logistic-regression\n",
      "  extra_warning_msg=_LOGISTIC_SOLVER_CONVERGENCE_MSG,\n",
      "c:\\Users\\vickj\\anaconda3\\envs\\deepLearning1\\lib\\site-packages\\sklearn\\linear_model\\_logistic.py:818: ConvergenceWarning: lbfgs failed to converge (status=1):\n",
      "STOP: TOTAL NO. of ITERATIONS REACHED LIMIT.\n",
      "\n",
      "Increase the number of iterations (max_iter) or scale the data as shown in:\n",
      "    https://scikit-learn.org/stable/modules/preprocessing.html\n",
      "Please also refer to the documentation for alternative solver options:\n",
      "    https://scikit-learn.org/stable/modules/linear_model.html#logistic-regression\n",
      "  extra_warning_msg=_LOGISTIC_SOLVER_CONVERGENCE_MSG,\n",
      "c:\\Users\\vickj\\anaconda3\\envs\\deepLearning1\\lib\\site-packages\\sklearn\\linear_model\\_logistic.py:818: ConvergenceWarning: lbfgs failed to converge (status=1):\n",
      "STOP: TOTAL NO. of ITERATIONS REACHED LIMIT.\n",
      "\n",
      "Increase the number of iterations (max_iter) or scale the data as shown in:\n",
      "    https://scikit-learn.org/stable/modules/preprocessing.html\n",
      "Please also refer to the documentation for alternative solver options:\n",
      "    https://scikit-learn.org/stable/modules/linear_model.html#logistic-regression\n",
      "  extra_warning_msg=_LOGISTIC_SOLVER_CONVERGENCE_MSG,\n",
      "c:\\Users\\vickj\\anaconda3\\envs\\deepLearning1\\lib\\site-packages\\sklearn\\linear_model\\_logistic.py:818: ConvergenceWarning: lbfgs failed to converge (status=1):\n",
      "STOP: TOTAL NO. of ITERATIONS REACHED LIMIT.\n",
      "\n",
      "Increase the number of iterations (max_iter) or scale the data as shown in:\n",
      "    https://scikit-learn.org/stable/modules/preprocessing.html\n",
      "Please also refer to the documentation for alternative solver options:\n",
      "    https://scikit-learn.org/stable/modules/linear_model.html#logistic-regression\n",
      "  extra_warning_msg=_LOGISTIC_SOLVER_CONVERGENCE_MSG,\n",
      "c:\\Users\\vickj\\anaconda3\\envs\\deepLearning1\\lib\\site-packages\\sklearn\\linear_model\\_logistic.py:818: ConvergenceWarning: lbfgs failed to converge (status=1):\n",
      "STOP: TOTAL NO. of ITERATIONS REACHED LIMIT.\n",
      "\n",
      "Increase the number of iterations (max_iter) or scale the data as shown in:\n",
      "    https://scikit-learn.org/stable/modules/preprocessing.html\n",
      "Please also refer to the documentation for alternative solver options:\n",
      "    https://scikit-learn.org/stable/modules/linear_model.html#logistic-regression\n",
      "  extra_warning_msg=_LOGISTIC_SOLVER_CONVERGENCE_MSG,\n",
      "c:\\Users\\vickj\\anaconda3\\envs\\deepLearning1\\lib\\site-packages\\sklearn\\linear_model\\_logistic.py:818: ConvergenceWarning: lbfgs failed to converge (status=1):\n",
      "STOP: TOTAL NO. of ITERATIONS REACHED LIMIT.\n",
      "\n",
      "Increase the number of iterations (max_iter) or scale the data as shown in:\n",
      "    https://scikit-learn.org/stable/modules/preprocessing.html\n",
      "Please also refer to the documentation for alternative solver options:\n",
      "    https://scikit-learn.org/stable/modules/linear_model.html#logistic-regression\n",
      "  extra_warning_msg=_LOGISTIC_SOLVER_CONVERGENCE_MSG,\n",
      "c:\\Users\\vickj\\anaconda3\\envs\\deepLearning1\\lib\\site-packages\\sklearn\\linear_model\\_logistic.py:818: ConvergenceWarning: lbfgs failed to converge (status=1):\n",
      "STOP: TOTAL NO. of ITERATIONS REACHED LIMIT.\n",
      "\n",
      "Increase the number of iterations (max_iter) or scale the data as shown in:\n",
      "    https://scikit-learn.org/stable/modules/preprocessing.html\n",
      "Please also refer to the documentation for alternative solver options:\n",
      "    https://scikit-learn.org/stable/modules/linear_model.html#logistic-regression\n",
      "  extra_warning_msg=_LOGISTIC_SOLVER_CONVERGENCE_MSG,\n",
      "c:\\Users\\vickj\\anaconda3\\envs\\deepLearning1\\lib\\site-packages\\sklearn\\linear_model\\_logistic.py:818: ConvergenceWarning: lbfgs failed to converge (status=1):\n",
      "STOP: TOTAL NO. of ITERATIONS REACHED LIMIT.\n",
      "\n",
      "Increase the number of iterations (max_iter) or scale the data as shown in:\n",
      "    https://scikit-learn.org/stable/modules/preprocessing.html\n",
      "Please also refer to the documentation for alternative solver options:\n",
      "    https://scikit-learn.org/stable/modules/linear_model.html#logistic-regression\n",
      "  extra_warning_msg=_LOGISTIC_SOLVER_CONVERGENCE_MSG,\n",
      "c:\\Users\\vickj\\anaconda3\\envs\\deepLearning1\\lib\\site-packages\\sklearn\\linear_model\\_logistic.py:818: ConvergenceWarning: lbfgs failed to converge (status=1):\n",
      "STOP: TOTAL NO. of ITERATIONS REACHED LIMIT.\n",
      "\n",
      "Increase the number of iterations (max_iter) or scale the data as shown in:\n",
      "    https://scikit-learn.org/stable/modules/preprocessing.html\n",
      "Please also refer to the documentation for alternative solver options:\n",
      "    https://scikit-learn.org/stable/modules/linear_model.html#logistic-regression\n",
      "  extra_warning_msg=_LOGISTIC_SOLVER_CONVERGENCE_MSG,\n",
      "c:\\Users\\vickj\\anaconda3\\envs\\deepLearning1\\lib\\site-packages\\sklearn\\linear_model\\_logistic.py:818: ConvergenceWarning: lbfgs failed to converge (status=1):\n",
      "STOP: TOTAL NO. of ITERATIONS REACHED LIMIT.\n",
      "\n",
      "Increase the number of iterations (max_iter) or scale the data as shown in:\n",
      "    https://scikit-learn.org/stable/modules/preprocessing.html\n",
      "Please also refer to the documentation for alternative solver options:\n",
      "    https://scikit-learn.org/stable/modules/linear_model.html#logistic-regression\n",
      "  extra_warning_msg=_LOGISTIC_SOLVER_CONVERGENCE_MSG,\n",
      "c:\\Users\\vickj\\anaconda3\\envs\\deepLearning1\\lib\\site-packages\\sklearn\\linear_model\\_logistic.py:818: ConvergenceWarning: lbfgs failed to converge (status=1):\n",
      "STOP: TOTAL NO. of ITERATIONS REACHED LIMIT.\n",
      "\n",
      "Increase the number of iterations (max_iter) or scale the data as shown in:\n",
      "    https://scikit-learn.org/stable/modules/preprocessing.html\n",
      "Please also refer to the documentation for alternative solver options:\n",
      "    https://scikit-learn.org/stable/modules/linear_model.html#logistic-regression\n",
      "  extra_warning_msg=_LOGISTIC_SOLVER_CONVERGENCE_MSG,\n",
      "c:\\Users\\vickj\\anaconda3\\envs\\deepLearning1\\lib\\site-packages\\sklearn\\linear_model\\_logistic.py:818: ConvergenceWarning: lbfgs failed to converge (status=1):\n",
      "STOP: TOTAL NO. of ITERATIONS REACHED LIMIT.\n",
      "\n",
      "Increase the number of iterations (max_iter) or scale the data as shown in:\n",
      "    https://scikit-learn.org/stable/modules/preprocessing.html\n",
      "Please also refer to the documentation for alternative solver options:\n",
      "    https://scikit-learn.org/stable/modules/linear_model.html#logistic-regression\n",
      "  extra_warning_msg=_LOGISTIC_SOLVER_CONVERGENCE_MSG,\n",
      "c:\\Users\\vickj\\anaconda3\\envs\\deepLearning1\\lib\\site-packages\\sklearn\\linear_model\\_logistic.py:818: ConvergenceWarning: lbfgs failed to converge (status=1):\n",
      "STOP: TOTAL NO. of ITERATIONS REACHED LIMIT.\n",
      "\n",
      "Increase the number of iterations (max_iter) or scale the data as shown in:\n",
      "    https://scikit-learn.org/stable/modules/preprocessing.html\n",
      "Please also refer to the documentation for alternative solver options:\n",
      "    https://scikit-learn.org/stable/modules/linear_model.html#logistic-regression\n",
      "  extra_warning_msg=_LOGISTIC_SOLVER_CONVERGENCE_MSG,\n"
     ]
    },
    {
     "name": "stdout",
     "output_type": "stream",
     "text": [
      "Logistic Regression:  0.800000  (0.266667)\n",
      "Linear Discriminant Analysis:  0.733333  (0.290593)\n",
      "K Nearest Neigbors:  0.733333  (0.249444)\n",
      "CART:  0.966667  (0.100000)\n",
      "Support Vector Machine:  0.583333  (0.250000)\n",
      "Guassian Naive Bayes:  0.933333  (0.133333)\n"
     ]
    }
   ],
   "source": [
    "for name, model in models:\n",
    "    names.append(name)\n",
    "    K_Fold = model_selection.KFold(n_splits=10, random_state=7, shuffle=True)\n",
    "    cv_results = model_selection.cross_val_score(\n",
    "        model, X_train, Y_train, cv=K_Fold, scoring=scoring)\n",
    "    results.append(cv_results)\n",
    "    message = \"%s:  %f  (%f)\" % (name, cv_results.mean(), cv_results.std())\n",
    "    print(message)\n"
   ]
  },
  {
   "cell_type": "code",
   "execution_count": 100,
   "metadata": {},
   "outputs": [
    {
     "data": {
      "text/plain": [
       "DecisionTreeClassifier()"
      ]
     },
     "execution_count": 100,
     "metadata": {},
     "output_type": "execute_result"
    }
   ],
   "source": [
    "model = DecisionTreeClassifier()\n",
    "model.fit(X_train, Y_train)"
   ]
  },
  {
   "cell_type": "code",
   "execution_count": 101,
   "metadata": {},
   "outputs": [
    {
     "data": {
      "text/plain": [
       "0.875"
      ]
     },
     "execution_count": 101,
     "metadata": {},
     "output_type": "execute_result"
    }
   ],
   "source": [
    "model.score(X_test, Y_test)"
   ]
  },
  {
   "cell_type": "code",
   "execution_count": 102,
   "metadata": {},
   "outputs": [],
   "source": [
    "predictions = model.predict([[800,1,500,2,10,4]])"
   ]
  },
  {
   "cell_type": "code",
   "execution_count": 103,
   "metadata": {},
   "outputs": [
    {
     "name": "stdout",
     "output_type": "stream",
     "text": [
      "['Highest']\n"
     ]
    }
   ],
   "source": [
    "print(predictions)"
   ]
  },
  {
   "cell_type": "code",
   "execution_count": 104,
   "metadata": {},
   "outputs": [
    {
     "name": "stdout",
     "output_type": "stream",
     "text": [
      "<class 'numpy.ndarray'>\n"
     ]
    }
   ],
   "source": [
    "print(type(predictions))"
   ]
  },
  {
   "cell_type": "code",
   "execution_count": 105,
   "metadata": {},
   "outputs": [
    {
     "name": "stdout",
     "output_type": "stream",
     "text": [
      "High\n"
     ]
    }
   ],
   "source": [
    "distanceCovered = 1500\n",
    "Match_of_Route = 1\n",
    "Fuel_Consumption = 2000\n",
    "Body_Characteristics = 1\n",
    "Equipment_Sensors = 10 \n",
    "Efficiency = 4\n",
    "Rating = 0\n",
    "\n",
    "new_prediction = model.predict([[distanceCovered, Match_of_Route, Fuel_Consumption, Body_Characteristics, Equipment_Sensors, Efficiency]])\n",
    "\n",
    "ranking = new_prediction[0]\n",
    "\n",
    "print(ranking)"
   ]
  },
  {
   "cell_type": "code",
   "execution_count": null,
   "metadata": {},
   "outputs": [],
   "source": []
  }
 ],
 "metadata": {
  "interpreter": {
   "hash": "788421b51819b0d99ad3e1c4dbd79c14d1f04d894a227406e4e8c6e44650e5ee"
  },
  "kernelspec": {
   "display_name": "Python 3.7.13 ('deepLearning1')",
   "language": "python",
   "name": "python3"
  },
  "language_info": {
   "codemirror_mode": {
    "name": "ipython",
    "version": 3
   },
   "file_extension": ".py",
   "mimetype": "text/x-python",
   "name": "python",
   "nbconvert_exporter": "python",
   "pygments_lexer": "ipython3",
   "version": "3.7.13"
  },
  "orig_nbformat": 4
 },
 "nbformat": 4,
 "nbformat_minor": 2
}
